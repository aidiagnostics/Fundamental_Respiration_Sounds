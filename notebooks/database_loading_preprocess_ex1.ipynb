{
 "cells": [
  {
   "cell_type": "markdown",
   "metadata": {},
   "source": [
    "# Database Loading & Pre-process\n",
    "\n",
    "In this Notebook we developed a code to load the entire Kaggle Respiration Sound Database and pre-process each of the signals\n",
    "\n",
    "### References\n",
    "\n",
    "[1] Kaggle:\n",
    "        https://www.kaggle.com/vbookshelf/respiratory-sound-database\n",
    "\n",
    "[2] Librosa demo:\n",
    "        https://nbviewer.jupyter.org/github/librosa/librosa/blob/master/examples/LibROSA%20demo.ipynb\n",
    "\n",
    "### Libraries Needed"
   ]
  },
  {
   "cell_type": "code",
   "execution_count": null,
   "metadata": {},
   "outputs": [],
   "source": [
    "from ipywidgets import widgets, interact\n",
    "\n",
    "import numpy as np\n",
    "import librosa as lb\n",
    "from tqdm import tqdm\n",
    "import soundfile as sfile\n",
    "import librosa.display as lbdis\n",
    "import matplotlib.pyplot as plt\n",
    "%matplotlib inline\n",
    "\n",
    "\n",
    "# changing to database path\n",
    "import os\n",
    "import sys\n",
    "from os.path import dirname as up\n",
    "mf_path = (up(os.getcwd())).replace('\\\\','/')    # Main Folder Path\n",
    "sys.path.insert(1, mf_path)\n",
    "\n",
    "import aidiagnostics_toolbox as aidt\n",
    "import glob\n",
    "os.chdir(mf_path + '/Respiratory_Sound_Database/audio_and_txt_files')"
   ]
  },
  {
   "cell_type": "markdown",
   "metadata": {},
   "source": [
    "### Data Loading Process"
   ]
  },
  {
   "cell_type": "code",
   "execution_count": null,
   "metadata": {},
   "outputs": [],
   "source": [
    "# Initializing Variables\n",
    "sound_list = []\n",
    "sound_reco = []\n",
    "sf_reco = []\n",
    "# Loading Loop\n",
    "for file in tqdm(glob.glob(\"*.wav\")):\n",
    "    sound_list.append(file)\n",
    "    # Loading and resampling sounds to 2kHz with librosa is too slow\n",
    "    data, sf = sfile.read(mf_path + '/Respiratory_Sound_Database/audio_and_txt_files/' + file)#, sr = 2000)\n",
    "    sound_reco.append(data)\n",
    "    sf_reco.append(sf)\n",
    "    \n",
    "print(' -----')\n",
    "n_sounds = np.shape(sound_list)[0]\n",
    "print('Number of sound Recordings = ', n_sounds)"
   ]
  },
  {
   "cell_type": "markdown",
   "metadata": {},
   "source": [
    "After loading the whole database, we can list each of them:"
   ]
  },
  {
   "cell_type": "code",
   "execution_count": null,
   "metadata": {},
   "outputs": [],
   "source": [
    "# List of 3 sounds\n",
    "print(sound_list[:3])\n",
    "# print all sounds .."
   ]
  },
  {
   "cell_type": "markdown",
   "metadata": {},
   "source": [
    "We can select a single sound from the database to preprocess it"
   ]
  },
  {
   "cell_type": "code",
   "execution_count": null,
   "metadata": {},
   "outputs": [],
   "source": [
    "w = widgets.IntSlider(min=0, max=n_sounds, step = 1, value = 10)\n",
    "display(w)"
   ]
  },
  {
   "cell_type": "code",
   "execution_count": null,
   "metadata": {},
   "outputs": [],
   "source": [
    "# selecting recording # 2 ... Add slider widget\n",
    "#@title Select one sound from database\n",
    "rec = 0 #@param {type:\"slider\", min:0, max:30, step:1}\n",
    "\n",
    "X = sound_reco[w.value]\n",
    "X = aidt.butter_bp_fil(X, 100, 300, sf)\n",
    "\n",
    "plt.figure(figsize=(12,2))\n",
    "plt.plot(512+(1000*X))\n",
    "plt.title('soundwave')\n",
    "plt.xlabel('samples (n)')\n",
    "plt.ylabel('amplitude')\n",
    "plt.tight_layout()"
   ]
  },
  {
   "cell_type": "markdown",
   "metadata": {},
   "source": [
    "### Mel Spectrogram"
   ]
  },
  {
   "cell_type": "code",
   "execution_count": null,
   "metadata": {},
   "outputs": [],
   "source": [
    "# Mel spectrogram\n",
    "Mspec = lb.feature.melspectrogram(X, sr=sf, n_mels=128)\n",
    "# Convert to log scale (dB)\n",
    "Mspec_db = lb.power_to_db(Mspec, ref=np.max)\n",
    "# Plotting Mel Spectrogram\n",
    "plt.figure(figsize=(12,4))\n",
    "lbdis.specshow(Mspec_db, sr=sf, x_axis='time', y_axis='mel')\n",
    "plt.title('mel power spectrogram')\n",
    "plt.tight_layout()"
   ]
  },
  {
   "cell_type": "markdown",
   "metadata": {},
   "source": [
    "### Harmonic-percussive source separation"
   ]
  },
  {
   "cell_type": "code",
   "execution_count": null,
   "metadata": {},
   "outputs": [],
   "source": [
    "y_harmonic, y_percussive = lb.effects.hpss(X)\n",
    "# What do the spectrograms look like?\n",
    "# Let's make and display a mel-scaled power (energy-squared) spectrogram\n",
    "S_harmonic   = lb.feature.melspectrogram(y_harmonic)#, sr=sf)\n",
    "S_percussive = lb.feature.melspectrogram(y_percussive)#, sr=sf)\n",
    "\n",
    "# Convert to log scale (dB). We'll use the peak power as reference.\n",
    "log_Sh = lb.power_to_db(S_harmonic, ref=np.max)\n",
    "log_Sp = lb.power_to_db(S_percussive, ref=np.max)\n",
    "\n",
    "plt.figure(figsize=(12,6))\n",
    "plt.subplot(2,1,1)\n",
    "lbdis.specshow(log_Sh, sr=sf, y_axis='mel')\n",
    "plt.title('mel power spectrogram (Harmonic)')\n",
    "plt.subplot(2,1,2)\n",
    "lbdis.specshow(log_Sp, sr=sf, x_axis='time', y_axis='mel')\n",
    "plt.title('mel power spectrogram (Percussive)')\n",
    "plt.tight_layout()"
   ]
  },
  {
   "cell_type": "markdown",
   "metadata": {},
   "source": [
    "### Chromagram"
   ]
  },
  {
   "cell_type": "code",
   "execution_count": null,
   "metadata": {},
   "outputs": [],
   "source": [
    "# Make a new figure\n",
    "plt.figure(figsize=(18,12))\n",
    "octa_vec = np.array([12, 24, 36, 48, 120, 180])\n",
    "k = len(octa_vec)\n",
    "for i in tqdm(range(k)):\n",
    "    plt.subplot(k,1,i+1)    \n",
    "    C = lb.feature.chroma_cqt(y=y_harmonic, sr=sf, bins_per_octave=int(octa_vec[i]))\n",
    "    lbdis.specshow(C, sr=sf, x_axis='time', y_axis='chroma', vmin=0, vmax=1)   \n",
    "    plt.title('Chromagram octaves %s' % str(octa_vec[i]))\n",
    "\n",
    "plt.tight_layout()"
   ]
  }
 ],
 "metadata": {
  "kernelspec": {
   "display_name": "Python 3",
   "language": "python",
   "name": "python3"
  },
  "language_info": {
   "codemirror_mode": {
    "name": "ipython",
    "version": 3
   },
   "file_extension": ".py",
   "mimetype": "text/x-python",
   "name": "python",
   "nbconvert_exporter": "python",
   "pygments_lexer": "ipython3",
   "version": "3.7.6"
  }
 },
 "nbformat": 4,
 "nbformat_minor": 4
}
