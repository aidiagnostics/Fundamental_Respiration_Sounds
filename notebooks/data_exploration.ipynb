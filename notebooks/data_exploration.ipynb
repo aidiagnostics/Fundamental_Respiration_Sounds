{
 "cells": [
  {
   "cell_type": "markdown",
   "metadata": {},
   "source": [
    "# Exploratory Analysis"
   ]
  },
  {
   "cell_type": "markdown",
   "metadata": {},
   "source": [
    "**Author:**\n",
    "- **Carlos Salgado** - Github: **[@socd06](https://github.com/socd06)**"
   ]
  },
  {
   "cell_type": "code",
   "execution_count": 4,
   "metadata": {},
   "outputs": [
    {
     "name": "stdout",
     "output_type": "stream",
     "text": [
      "Requirement already satisfied: pyqtgraph in /home/carlos/anaconda3/envs/aidiag/lib/python3.7/site-packages (from -r ../requirements.txt (line 1)) (0.10.0)\n",
      "Requirement already satisfied: sounddevice in /home/carlos/anaconda3/envs/aidiag/lib/python3.7/site-packages (from -r ../requirements.txt (line 2)) (0.3.15)\n",
      "Requirement already satisfied: pyopengl in /home/carlos/anaconda3/envs/aidiag/lib/python3.7/site-packages (from -r ../requirements.txt (line 3)) (3.1.5)\n",
      "Requirement already satisfied: librosa in /home/carlos/anaconda3/envs/aidiag/lib/python3.7/site-packages (from -r ../requirements.txt (line 4)) (0.7.2)\n",
      "Requirement already satisfied: opencv-python in /home/carlos/anaconda3/envs/aidiag/lib/python3.7/site-packages (from -r ../requirements.txt (line 5)) (4.2.0.34)\n",
      "Requirement already satisfied: qt-multiprocessing in /home/carlos/anaconda3/envs/aidiag/lib/python3.7/site-packages (from -r ../requirements.txt (line 6)) (0.0.8)\n",
      "Requirement already satisfied: pandas in /home/carlos/anaconda3/envs/aidiag/lib/python3.7/site-packages (from -r ../requirements.txt (line 7)) (1.0.3)\n",
      "Requirement already satisfied: PyQt5 in /home/carlos/anaconda3/envs/aidiag/lib/python3.7/site-packages (from -r ../requirements.txt (line 8)) (5.14.2)\n",
      "Requirement already satisfied: matplotlib in /home/carlos/anaconda3/envs/aidiag/lib/python3.7/site-packages (from -r ../requirements.txt (line 9)) (3.2.1)\n",
      "Requirement already satisfied: pydub in /home/carlos/anaconda3/envs/aidiag/lib/python3.7/site-packages (from -r ../requirements.txt (line 10)) (0.23.1)\n",
      "Requirement already satisfied: numpy in /home/carlos/anaconda3/envs/aidiag/lib/python3.7/site-packages (from pyqtgraph->-r ../requirements.txt (line 1)) (1.18.3)\n",
      "Requirement already satisfied: CFFI>=1.0 in /home/carlos/anaconda3/envs/aidiag/lib/python3.7/site-packages (from sounddevice->-r ../requirements.txt (line 2)) (1.14.0)\n",
      "Requirement already satisfied: resampy>=0.2.2 in /home/carlos/anaconda3/envs/aidiag/lib/python3.7/site-packages (from librosa->-r ../requirements.txt (line 4)) (0.2.2)\n",
      "Requirement already satisfied: numba>=0.43.0 in /home/carlos/anaconda3/envs/aidiag/lib/python3.7/site-packages (from librosa->-r ../requirements.txt (line 4)) (0.49.0)\n",
      "Requirement already satisfied: audioread>=2.0.0 in /home/carlos/anaconda3/envs/aidiag/lib/python3.7/site-packages (from librosa->-r ../requirements.txt (line 4)) (2.1.8)\n",
      "Requirement already satisfied: scipy>=1.0.0 in /home/carlos/anaconda3/envs/aidiag/lib/python3.7/site-packages (from librosa->-r ../requirements.txt (line 4)) (1.4.1)\n",
      "Requirement already satisfied: decorator>=3.0.0 in /home/carlos/anaconda3/envs/aidiag/lib/python3.7/site-packages (from librosa->-r ../requirements.txt (line 4)) (4.4.2)\n",
      "Requirement already satisfied: soundfile>=0.9.0 in /home/carlos/anaconda3/envs/aidiag/lib/python3.7/site-packages (from librosa->-r ../requirements.txt (line 4)) (0.10.3.post1)\n",
      "Requirement already satisfied: scikit-learn!=0.19.0,>=0.14.0 in /home/carlos/anaconda3/envs/aidiag/lib/python3.7/site-packages (from librosa->-r ../requirements.txt (line 4)) (0.22.2.post1)\n",
      "Requirement already satisfied: joblib>=0.12 in /home/carlos/anaconda3/envs/aidiag/lib/python3.7/site-packages (from librosa->-r ../requirements.txt (line 4)) (0.14.1)\n",
      "Requirement already satisfied: six>=1.3 in /home/carlos/anaconda3/envs/aidiag/lib/python3.7/site-packages (from librosa->-r ../requirements.txt (line 4)) (1.14.0)\n",
      "Requirement already satisfied: mp-event-loop>=1.4.5 in /home/carlos/anaconda3/envs/aidiag/lib/python3.7/site-packages (from qt-multiprocessing->-r ../requirements.txt (line 6)) (1.5.2)\n",
      "Requirement already satisfied: qtpy in /home/carlos/anaconda3/envs/aidiag/lib/python3.7/site-packages (from qt-multiprocessing->-r ../requirements.txt (line 6)) (1.9.0)\n",
      "Requirement already satisfied: pytz>=2017.2 in /home/carlos/anaconda3/envs/aidiag/lib/python3.7/site-packages (from pandas->-r ../requirements.txt (line 7)) (2019.3)\n",
      "Requirement already satisfied: python-dateutil>=2.6.1 in /home/carlos/anaconda3/envs/aidiag/lib/python3.7/site-packages (from pandas->-r ../requirements.txt (line 7)) (2.8.1)\n",
      "Requirement already satisfied: PyQt5-sip<13,>=12.7 in /home/carlos/anaconda3/envs/aidiag/lib/python3.7/site-packages (from PyQt5->-r ../requirements.txt (line 8)) (12.7.2)\n",
      "Requirement already satisfied: kiwisolver>=1.0.1 in /home/carlos/anaconda3/envs/aidiag/lib/python3.7/site-packages (from matplotlib->-r ../requirements.txt (line 9)) (1.2.0)\n",
      "Requirement already satisfied: cycler>=0.10 in /home/carlos/anaconda3/envs/aidiag/lib/python3.7/site-packages (from matplotlib->-r ../requirements.txt (line 9)) (0.10.0)\n",
      "Requirement already satisfied: pyparsing!=2.0.4,!=2.1.2,!=2.1.6,>=2.0.1 in /home/carlos/anaconda3/envs/aidiag/lib/python3.7/site-packages (from matplotlib->-r ../requirements.txt (line 9)) (2.4.7)\n",
      "Requirement already satisfied: pycparser in /home/carlos/anaconda3/envs/aidiag/lib/python3.7/site-packages (from CFFI>=1.0->sounddevice->-r ../requirements.txt (line 2)) (2.20)\n",
      "Requirement already satisfied: setuptools in /home/carlos/anaconda3/envs/aidiag/lib/python3.7/site-packages (from numba>=0.43.0->librosa->-r ../requirements.txt (line 4)) (46.1.3.post20200330)\n",
      "Requirement already satisfied: llvmlite<=0.33.0.dev0,>=0.31.0.dev0 in /home/carlos/anaconda3/envs/aidiag/lib/python3.7/site-packages (from numba>=0.43.0->librosa->-r ../requirements.txt (line 4)) (0.32.0)\n"
     ]
    }
   ],
   "source": [
    "# Install required libraries\n",
    "# Consider using a virtual environment to protect your device's state\n",
    "!pip install -r ../requirements.txt"
   ]
  },
  {
   "cell_type": "code",
   "execution_count": 1,
   "metadata": {},
   "outputs": [],
   "source": [
    "# Import main libraries \n",
    "import pandas as pd\n",
    "import numpy as np\n",
    "import os\n",
    "\n",
    "import matplotlib.pyplot as plt\n",
    "%matplotlib inline\n",
    "\n",
    "# Don't Show Warning Messages\n",
    "import warnings\n",
    "warnings.filterwarnings('ignore')"
   ]
  },
  {
   "cell_type": "markdown",
   "metadata": {},
   "source": [
    "## Exploring the files"
   ]
  },
  {
   "cell_type": "code",
   "execution_count": 8,
   "metadata": {},
   "outputs": [
    {
     "data": {
      "text/plain": [
       "['audio_and_txt_files',\n",
       " '16b_harmonic',\n",
       " '16b_audio',\n",
       " 'patient_diagnosis.csv',\n",
       " 'filename_differences.txt',\n",
       " 'filename_format.txt']"
      ]
     },
     "execution_count": 8,
     "metadata": {},
     "output_type": "execute_result"
    }
   ],
   "source": [
    "os.listdir(\"../Respiratory_Sound_Database\")"
   ]
  },
  {
   "cell_type": "markdown",
   "metadata": {},
   "source": [
    "## Reading csv file\n",
    "---\n",
    "Reading the `patient_diagnosis.csv` file"
   ]
  },
  {
   "cell_type": "code",
   "execution_count": 11,
   "metadata": {},
   "outputs": [
    {
     "data": {
      "text/html": [
       "<div>\n",
       "<style scoped>\n",
       "    .dataframe tbody tr th:only-of-type {\n",
       "        vertical-align: middle;\n",
       "    }\n",
       "\n",
       "    .dataframe tbody tr th {\n",
       "        vertical-align: top;\n",
       "    }\n",
       "\n",
       "    .dataframe thead th {\n",
       "        text-align: right;\n",
       "    }\n",
       "</style>\n",
       "<table border=\"1\" class=\"dataframe\">\n",
       "  <thead>\n",
       "    <tr style=\"text-align: right;\">\n",
       "      <th></th>\n",
       "      <th>patient_id</th>\n",
       "      <th>diagnosis</th>\n",
       "    </tr>\n",
       "  </thead>\n",
       "  <tbody>\n",
       "    <tr>\n",
       "      <th>0</th>\n",
       "      <td>101</td>\n",
       "      <td>URTI</td>\n",
       "    </tr>\n",
       "    <tr>\n",
       "      <th>1</th>\n",
       "      <td>102</td>\n",
       "      <td>Healthy</td>\n",
       "    </tr>\n",
       "    <tr>\n",
       "      <th>2</th>\n",
       "      <td>103</td>\n",
       "      <td>Asthma</td>\n",
       "    </tr>\n",
       "    <tr>\n",
       "      <th>3</th>\n",
       "      <td>104</td>\n",
       "      <td>COPD</td>\n",
       "    </tr>\n",
       "    <tr>\n",
       "      <th>4</th>\n",
       "      <td>105</td>\n",
       "      <td>URTI</td>\n",
       "    </tr>\n",
       "    <tr>\n",
       "      <th>5</th>\n",
       "      <td>106</td>\n",
       "      <td>COPD</td>\n",
       "    </tr>\n",
       "    <tr>\n",
       "      <th>6</th>\n",
       "      <td>107</td>\n",
       "      <td>COPD</td>\n",
       "    </tr>\n",
       "    <tr>\n",
       "      <th>7</th>\n",
       "      <td>108</td>\n",
       "      <td>LRTI</td>\n",
       "    </tr>\n",
       "    <tr>\n",
       "      <th>8</th>\n",
       "      <td>109</td>\n",
       "      <td>COPD</td>\n",
       "    </tr>\n",
       "    <tr>\n",
       "      <th>9</th>\n",
       "      <td>110</td>\n",
       "      <td>COPD</td>\n",
       "    </tr>\n",
       "  </tbody>\n",
       "</table>\n",
       "</div>"
      ],
      "text/plain": [
       "   patient_id diagnosis\n",
       "0         101      URTI\n",
       "1         102   Healthy\n",
       "2         103    Asthma\n",
       "3         104      COPD\n",
       "4         105      URTI\n",
       "5         106      COPD\n",
       "6         107      COPD\n",
       "7         108      LRTI\n",
       "8         109      COPD\n",
       "9         110      COPD"
      ]
     },
     "execution_count": 11,
     "metadata": {},
     "output_type": "execute_result"
    }
   ],
   "source": [
    "path = \\\n",
    "'../Respiratory_Sound_Database/patient_diagnosis.csv'\n",
    "\n",
    "df_diag = pd.read_csv(path, header=None, names=['patient_id', 'diagnosis'])\n",
    "\n",
    "df_diag.head(10)"
   ]
  },
  {
   "cell_type": "markdown",
   "metadata": {},
   "source": [
    "Counting values for each different diagnosis"
   ]
  },
  {
   "cell_type": "code",
   "execution_count": 19,
   "metadata": {},
   "outputs": [
    {
     "data": {
      "text/plain": [
       "COPD              64\n",
       "Healthy           26\n",
       "URTI              14\n",
       "Bronchiectasis     7\n",
       "Bronchiolitis      6\n",
       "Pneumonia          6\n",
       "LRTI               2\n",
       "Asthma             1\n",
       "Name: diagnosis, dtype: int64"
      ]
     },
     "execution_count": 19,
     "metadata": {},
     "output_type": "execute_result"
    }
   ],
   "source": [
    "df_diag['diagnosis'].value_counts()"
   ]
  },
  {
   "cell_type": "code",
   "execution_count": 23,
   "metadata": {},
   "outputs": [
    {
     "name": "stdout",
     "output_type": "stream",
     "text": [
      "0    True\n",
      "1    True\n",
      "2    True\n",
      "3    True\n",
      "4    True\n",
      "Name: diagnosis, dtype: bool\n"
     ]
    }
   ],
   "source": [
    "# does year equals to 2002?\n",
    "# is_2002 is a boolean variable with True or False in it\n",
    "is_healthy =  df_diag['diagnosis']==\"Healthy\"\n",
    "print(is_healthy.head())"
   ]
  },
  {
   "cell_type": "markdown",
   "metadata": {},
   "source": [
    "Using boolean `is_healthy` variable to filter the dataframe. After subsetting we can see that new dataframe is much smaller in size."
   ]
  },
  {
   "cell_type": "code",
   "execution_count": 28,
   "metadata": {},
   "outputs": [
    {
     "name": "stdout",
     "output_type": "stream",
     "text": [
      "(126, 2)\n"
     ]
    }
   ],
   "source": [
    "# filter rows for 'Healthy' diganosis using  the boolean variable\n",
    "df_healthy = df_diag[is_healthy]\n",
    "print(df_healthy.shape)"
   ]
  },
  {
   "cell_type": "code",
   "execution_count": 29,
   "metadata": {},
   "outputs": [
    {
     "name": "stdout",
     "output_type": "stream",
     "text": [
      "     patient_id diagnosis\n",
      "0           101   Healthy\n",
      "1           102   Healthy\n",
      "2           103   Healthy\n",
      "3           104   Healthy\n",
      "4           105   Healthy\n",
      "..          ...       ...\n",
      "121         222   Healthy\n",
      "122         223   Healthy\n",
      "123         224   Healthy\n",
      "124         225   Healthy\n",
      "125         226   Healthy\n",
      "\n",
      "[126 rows x 2 columns]\n"
     ]
    }
   ],
   "source": [
    "print(df_healthy)"
   ]
  },
  {
   "cell_type": "markdown",
   "metadata": {},
   "source": [
    "We can save this dataframe as a `Comma Separated Values` file to use it as a guide while labelling with the AI Diagnosis app."
   ]
  },
  {
   "cell_type": "code",
   "execution_count": 33,
   "metadata": {},
   "outputs": [],
   "source": [
    "df_healthy.to_csv('../Respiratory_Sound_Database/healthy_diagnosis.csv', index = False)"
   ]
  },
  {
   "cell_type": "markdown",
   "metadata": {},
   "source": [
    "Assumming healthy patients have the best signal to noise raitio, try labelling aspiration and expiration using the app. Then we can train our first neural network model that will be able to recognize healthy patients."
   ]
  }
 ],
 "metadata": {
  "kernelspec": {
   "display_name": "Python 3",
   "language": "python",
   "name": "python3"
  },
  "language_info": {
   "codemirror_mode": {
    "name": "ipython",
    "version": 3
   },
   "file_extension": ".py",
   "mimetype": "text/x-python",
   "name": "python",
   "nbconvert_exporter": "python",
   "pygments_lexer": "ipython3",
   "version": "3.7.7"
  }
 },
 "nbformat": 4,
 "nbformat_minor": 4
}
