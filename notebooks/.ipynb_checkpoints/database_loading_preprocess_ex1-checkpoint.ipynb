{
 "cells": [
  {
   "cell_type": "markdown",
   "metadata": {},
   "source": [
    "# Database Loading & Pre-process\n",
    "\n",
    "In this Notebook we developed a code to load the entire Kaggle Respiration Sound Database and pre-process each of the signals\n",
    "\n",
    "### References\n",
    "\n",
    "[1] Kaggle:\n",
    "        https://www.kaggle.com/vbookshelf/respiratory-sound-database\n",
    "    Librosa demo:\n",
    "        https://nbviewer.jupyter.org/github/librosa/librosa/blob/master/examples/LibROSA%20demo.ipynb\n",
    "\n",
    "### Libraries Needed"
   ]
  },
  {
   "cell_type": "code",
   "execution_count": null,
   "metadata": {},
   "outputs": [],
   "source": []
  }
 ],
 "metadata": {
  "kernelspec": {
   "display_name": "Python 3",
   "language": "python",
   "name": "python3"
  },
  "language_info": {
   "codemirror_mode": {
    "name": "ipython",
    "version": 3
   },
   "file_extension": ".py",
   "mimetype": "text/x-python",
   "name": "python",
   "nbconvert_exporter": "python",
   "pygments_lexer": "ipython3",
   "version": "3.7.6"
  }
 },
 "nbformat": 4,
 "nbformat_minor": 4
}
